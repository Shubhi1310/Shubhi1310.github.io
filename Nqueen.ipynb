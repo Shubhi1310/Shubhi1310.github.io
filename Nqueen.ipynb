{
  "nbformat": 4,
  "nbformat_minor": 0,
  "metadata": {
    "colab": {
      "name": "Nqueen.ipynb",
      "provenance": [],
      "authorship_tag": "ABX9TyPW5E+BBkRrO5UcA+oRNyt0",
      "include_colab_link": true
    },
    "kernelspec": {
      "name": "python3",
      "display_name": "Python 3"
    },
    "language_info": {
      "name": "python"
    }
  },
  "cells": [
    {
      "cell_type": "markdown",
      "metadata": {
        "id": "view-in-github",
        "colab_type": "text"
      },
      "source": [
        "<a href=\"https://colab.research.google.com/github/Shubhi1310/Shubhi1310.github.io/blob/master/Nqueen.ipynb\" target=\"_parent\"><img src=\"https://colab.research.google.com/assets/colab-badge.svg\" alt=\"Open In Colab\"/></a>"
      ]
    },
    {
      "cell_type": "code",
      "execution_count": 1,
      "metadata": {
        "id": "hKHIfZMKlgji",
        "colab": {
          "base_uri": "https://localhost:8080/"
        },
        "outputId": "23f4647c-ea54-45a8-a92d-90cb3d5042dd"
      },
      "outputs": [
        {
          "name": "stdout",
          "output_type": "stream",
          "text": [
            "Enter Number Of Queens: 4\n"
          ]
        }
      ],
      "source": [
        "global N \n",
        "N = int(input(\"Enter Number Of Queens: \"))\n",
        "  \n",
        "def printSolution(board): \n",
        "    for i in range(N): \n",
        "        for j in range(N): \n",
        "            print (board[i][j], end = \" \") \n",
        "        print()"
      ]
    },
    {
      "cell_type": "code",
      "source": [
        "def isSafe(board, row, col):   \n",
        "    for i in range(col): \n",
        "        if board[row][i] == 1: \n",
        "            return False  \n",
        "    for i, j in zip(range(row, -1, -1),  \n",
        "                    range(col, -1, -1)): \n",
        "        if board[i][j] == 1: \n",
        "            return False\n",
        "  \n",
        "    for i, j in zip(range(row, N, 1),  \n",
        "                    range(col, -1, -1)): \n",
        "        if board[i][j] == 1: \n",
        "            return False  \n",
        "    return True\n",
        "def solveNQUtil(board, col): \n",
        "      \n",
        "    if col >= N: \n",
        "        return True\n",
        "  \n",
        "    for i in range(N): \n",
        "  \n",
        "        if isSafe(board, i, col):               \n",
        "            board[i][col] = 1\n",
        "  \n",
        "            if solveNQUtil(board, col + 1) == True: \n",
        "                return True\n",
        "  \n",
        "            board[i][col] = 0\n",
        "\n",
        "    return False\n",
        "board = [[0] * N for i in range(N)]\n",
        "board"
      ],
      "metadata": {
        "colab": {
          "base_uri": "https://localhost:8080/"
        },
        "id": "gOMX7oGfDRln",
        "outputId": "856041ea-3d83-4bb8-8f1b-5ff591f75432"
      },
      "execution_count": 2,
      "outputs": [
        {
          "output_type": "execute_result",
          "data": {
            "text/plain": [
              "[[0, 0, 0, 0], [0, 0, 0, 0], [0, 0, 0, 0], [0, 0, 0, 0]]"
            ]
          },
          "metadata": {},
          "execution_count": 2
        }
      ]
    },
    {
      "cell_type": "code",
      "source": [
        "def solveNQ(): \n",
        "    if solveNQUtil(board, 0) == False: \n",
        "        print (\"Solution does not exist\") \n",
        "        return False\n",
        "  \n",
        "    printSolution(board) \n",
        "    return True\n",
        "solveNQ()"
      ],
      "metadata": {
        "colab": {
          "base_uri": "https://localhost:8080/"
        },
        "id": "t-DzepU9DbaO",
        "outputId": "3a808bf5-c855-4585-e31c-e240edd756c2"
      },
      "execution_count": 3,
      "outputs": [
        {
          "output_type": "stream",
          "name": "stdout",
          "text": [
            "0 0 1 0 \n",
            "1 0 0 0 \n",
            "0 0 0 1 \n",
            "0 1 0 0 \n"
          ]
        },
        {
          "output_type": "execute_result",
          "data": {
            "text/plain": [
              "True"
            ]
          },
          "metadata": {},
          "execution_count": 3
        }
      ]
    }
  ]
}